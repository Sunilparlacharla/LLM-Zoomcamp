{
 "cells": [
  {
   "cell_type": "code",
   "execution_count": 1,
   "id": "f790e7e1-c6df-4acc-a527-5b8417c2cf3e",
   "metadata": {},
   "outputs": [
    {
     "name": "stdout",
     "output_type": "stream",
     "text": [
      "--2024-07-23 15:42:46--  https://raw.githubusercontent.com/alexeygrigorev/minsearch/main/minsearch.py\n",
      "Resolving raw.githubusercontent.com (raw.githubusercontent.com)... 185.199.108.133, 185.199.109.133, 185.199.110.133, ...\n",
      "Connecting to raw.githubusercontent.com (raw.githubusercontent.com)|185.199.108.133|:443... connected.\n",
      "HTTP request sent, awaiting response... 200 OK\n",
      "Length: 3832 (3.7K) [text/plain]\n",
      "Saving to: ‘minsearch.py’\n",
      "\n",
      "minsearch.py        100%[===================>]   3.74K  --.-KB/s    in 0s      \n",
      "\n",
      "2024-07-23 15:42:46 (45.4 MB/s) - ‘minsearch.py’ saved [3832/3832]\n",
      "\n"
     ]
    }
   ],
   "source": [
    "!rm -f minsearch.py\n",
    "!wget https://raw.githubusercontent.com/alexeygrigorev/minsearch/main/minsearch.py"
   ]
  },
  {
   "cell_type": "code",
   "execution_count": 2,
   "id": "3e46303b-83d8-4cb7-bc61-649dfd9704cb",
   "metadata": {},
   "outputs": [
    {
     "data": {
      "text/plain": [
       "<minsearch.Index at 0x7c4c32c9bbb0>"
      ]
     },
     "execution_count": 2,
     "metadata": {},
     "output_type": "execute_result"
    }
   ],
   "source": [
    "import requests \n",
    "import minsearch\n",
    "\n",
    "docs_url = 'https://github.com/DataTalksClub/llm-zoomcamp/blob/main/01-intro/documents.json?raw=1'\n",
    "docs_response = requests.get(docs_url)\n",
    "documents_raw = docs_response.json()\n",
    "\n",
    "documents = []\n",
    "\n",
    "for course in documents_raw:\n",
    "    course_name = course['course']\n",
    "\n",
    "    for doc in course['documents']:\n",
    "        doc['course'] = course_name\n",
    "        documents.append(doc)\n",
    "\n",
    "index = minsearch.Index(\n",
    "    text_fields=[\"question\", \"text\", \"section\"],\n",
    "    keyword_fields=[\"course\"]\n",
    ")\n",
    "\n",
    "index.fit(documents)"
   ]
  },
  {
   "cell_type": "code",
   "execution_count": 6,
   "id": "10184940-1608-4d04-ab0d-dcd06aab72d4",
   "metadata": {},
   "outputs": [],
   "source": [
    "def search(query):\n",
    "    boost = {'question': 3.0, 'section': 0.5}\n",
    "\n",
    "    results = index.search(\n",
    "        query=query,\n",
    "        filter_dict={'course': 'data-engineering-zoomcamp'},\n",
    "        boost_dict=boost,\n",
    "        num_results=5\n",
    "    )\n",
    "\n",
    "    return results"
   ]
  },
  {
   "cell_type": "code",
   "execution_count": 7,
   "id": "a7dcad02-1bc0-460e-b30f-0fc7d0ff14dd",
   "metadata": {},
   "outputs": [],
   "source": [
    "def build_prompt(query, search_results):\n",
    "    prompt_template = \"\"\"\n",
    "You're a course teaching assistant. Answer the QUESTION based on the CONTEXT from the FAQ database.\n",
    "Use only the facts from the CONTEXT when answering the QUESTION.\n",
    "\n",
    "QUESTION: {question}\n",
    "\n",
    "CONTEXT: \n",
    "{context}\n",
    "\"\"\".strip()\n",
    "\n",
    "    context = \"\"\n",
    "    \n",
    "    for doc in search_results:\n",
    "        context = context + f\"section: {doc['section']}\\nquestion: {doc['question']}\\nanswer: {doc['text']}\\n\\n\"\n",
    "    \n",
    "    prompt = prompt_template.format(question=query, context=context).strip()\n",
    "    return prompt\n",
    "\n",
    "def llm(prompt):\n",
    "    response = client.chat.completions.create(\n",
    "        model='phi3',\n",
    "        messages=[{\"role\": \"user\", \"content\": prompt}]\n",
    "    )\n",
    "    \n",
    "    return response.choices[0].message.content"
   ]
  },
  {
   "cell_type": "code",
   "execution_count": 8,
   "id": "1835c062-e95b-463c-b0f3-3641db70ae4a",
   "metadata": {},
   "outputs": [],
   "source": [
    "def rag(query):\n",
    "    search_results = search(query)\n",
    "    prompt = build_prompt(query, search_results)\n",
    "    answer = llm(prompt)\n",
    "    return answer"
   ]
  },
  {
   "cell_type": "code",
   "execution_count": 12,
   "id": "a73cc4df-3ae6-49cd-a9ca-adb43cb80bb2",
   "metadata": {},
   "outputs": [],
   "source": [
    "from openai import OpenAI\n",
    "\n",
    "client = OpenAI(\n",
    "    base_url='http://localhost:11434/v1/',\n",
    "    api_key='ollama',\n",
    ")"
   ]
  },
  {
   "cell_type": "code",
   "execution_count": 15,
   "id": "9d627d42-f02e-4104-befc-8687aa222994",
   "metadata": {},
   "outputs": [
    {
     "data": {
      "text/plain": [
       "\" Whether you can still join a specific online learning platform's course might depend on several factors, such as:\\n\\n- The policies of the educational institution or service provider managing the courses. Often they have set deadlines for enrollments during which new registrants are accepted and some may be closed after these dates to maintain an optimal class size and resource availability. However, exceptions might occasionally happen based on instructor discretion or if there's a last-minute cancellation.\\n  \\n- The capacity of the course for additional students once it is full. In cases where courses are at maximum enrollment but have not reached their closing date, they may still accept new participants as seats become available due to dropouts or program termination by current learners. It’s always worth checking directly with them if you missed a cutoff period and inquire about the likelihood of joining late or taking future course sessions when spaces open up again.\\n\\n- The platform' extrinsic policies, like enrollment windows for specific courses which could vary between subjects (some may allow last-minute registrations while others do not).\\n  \\nTo get accurate information on your ability to join a particular online learning session you have discovered:\\n\\n1. Visit the course webpage or review its description in detail if it’s listed on an educational platform like Coursera, Udemy, edX, FutureLearn, or others. Look for details regarding enrollment periods and cut-off dates explicitly mentioned therein; this is often your first checkpoint to understand eligibility timelines.\\n   \\n2. If no date has been specified within the course information but you have reason to believe it was once open, directly contact customer support or an instructor associated with that specific module through their provided communication channels (e-mails, social media platforms if available). \\n   Explain your situation succinctly and politely – inquire about possible late enrollments. Sometimes educators are aware of exceptional circumstances like yours and might consider extending a deadline or offering guidance on the next steps to take should there be no possibility for joining this particular session. They can also direct you towards future course offerings that cover similar topics if it's crucial not to miss learning in this subject area completely.\\n\\n3. Check with your local libraries as some educational institutions partner closely with library systems worldwide and may provide courses through them, often allowing flexibility regarding timelines for joining or even starting the content on-demand after completion of certain modules (if available). Libraries can be a great source to get additional information about these opportunities in your area.\\n   \\n4. Consider alternatives like community colleges' continuing education sections which occasionally offer free classes, allowing students who cannot enroll directly with an institution due to various reasons such as timing or finances access non-credit courses on digital platforms for supplementary knowledge growth alongside more structured ones without incurring extra costs outside of tuition and fees (if relevant).\\n   Community colleges might also have partnerships that let interested learners enroll with them directly through various pathways such as online learning programs or physical attendance when feasible; some may offer financial aid options like scholarships which could ease potential barriers related to affordability too. \\n   \\n5. Remember, always be open-minded about different alternatives if there is any indication that joining your desired course isn’t possible – this way you might explore other educational paths leading towards aching similar goals or gain new skills altogether without compromising on learning objectives overall! Just because one avenue doesn't work out directly, it does not mean all options should cease before exhausting possibilities until suitable alternatives are found.\\n\\nThus remember these steps: thoroughly check course details for timelines and policies first; reach out to customer support/instructor if needed due direct inquiry about eligibility status & future sessions availability (if any); explore local libraries’ educational partnerships when applicable as well seek potential financial aid options via community colleges directly instead of solely focusing on commercial platforms alone where feasible. By doing these, we can maximize chances getting involved in meaningful learning experiences while accommodating constraints such timeframes & accessibility concerns! Good luck finding your perfect educational journey ahead – keep being curious and proactive about pursuing knowledge growth through various mediums regardless of initial setbacks encountered along the way as opportunities evolve overtime based on circumstances surrounding every individual's unique situation. \\n\""
      ]
     },
     "execution_count": 15,
     "metadata": {},
     "output_type": "execute_result"
    }
   ],
   "source": [
    "llm('I just discovered the course. Can I still join it?')"
   ]
  },
  {
   "cell_type": "code",
   "execution_count": 16,
   "id": "f5f98a42-a489-4bb8-b9a7-89bd6f9dbe34",
   "metadata": {},
   "outputs": [
    {
     "name": "stdout",
     "output_type": "stream",
     "text": [
      " Whether you can still join a specific online learning platform's course might depend on several factors, such as:\n",
      "\n",
      "- The policies of the educational institution or service provider managing the courses. Often they have set deadlines for enrollments during which new registrants are accepted and some may be closed after these dates to maintain an optimal class size and resource availability. However, exceptions might occasionally happen based on instructor discretion or if there's a last-minute cancellation.\n",
      "  \n",
      "- The capacity of the course for additional students once it is full. In cases where courses are at maximum enrollment but have not reached their closing date, they may still accept new participants as seats become available due to dropouts or program termination by current learners. It’s always worth checking directly with them if you missed a cutoff period and inquire about the likelihood of joining late or taking future course sessions when spaces open up again.\n",
      "\n",
      "- The platform' extrinsic policies, like enrollment windows for specific courses which could vary between subjects (some may allow last-minute registrations while others do not).\n",
      "  \n",
      "To get accurate information on your ability to join a particular online learning session you have discovered:\n",
      "\n",
      "1. Visit the course webpage or review its description in detail if it’s listed on an educational platform like Coursera, Udemy, edX, FutureLearn, or others. Look for details regarding enrollment periods and cut-off dates explicitly mentioned therein; this is often your first checkpoint to understand eligibility timelines.\n",
      "   \n",
      "2. If no date has been specified within the course information but you have reason to believe it was once open, directly contact customer support or an instructor associated with that specific module through their provided communication channels (e-mails, social media platforms if available). \n",
      "   Explain your situation succinctly and politely – inquire about possible late enrollments. Sometimes educators are aware of exceptional circumstances like yours and might consider extending a deadline or offering guidance on the next steps to take should there be no possibility for joining this particular session. They can also direct you towards future course offerings that cover similar topics if it's crucial not to miss learning in this subject area completely.\n",
      "\n",
      "3. Check with your local libraries as some educational institutions partner closely with library systems worldwide and may provide courses through them, often allowing flexibility regarding timelines for joining or even starting the content on-demand after completion of certain modules (if available). Libraries can be a great source to get additional information about these opportunities in your area.\n",
      "   \n",
      "4. Consider alternatives like community colleges' continuing education sections which occasionally offer free classes, allowing students who cannot enroll directly with an institution due to various reasons such as timing or finances access non-credit courses on digital platforms for supplementary knowledge growth alongside more structured ones without incurring extra costs outside of tuition and fees (if relevant).\n",
      "   Community colleges might also have partnerships that let interested learners enroll with them directly through various pathways such as online learning programs or physical attendance when feasible; some may offer financial aid options like scholarships which could ease potential barriers related to affordability too. \n",
      "   \n",
      "5. Remember, always be open-minded about different alternatives if there is any indication that joining your desired course isn’t possible – this way you might explore other educational paths leading towards aching similar goals or gain new skills altogether without compromising on learning objectives overall! Just because one avenue doesn't work out directly, it does not mean all options should cease before exhausting possibilities until suitable alternatives are found.\n",
      "\n",
      "Thus remember these steps: thoroughly check course details for timelines and policies first; reach out to customer support/instructor if needed due direct inquiry about eligibility status & future sessions availability (if any); explore local libraries’ educational partnerships when applicable as well seek potential financial aid options via community colleges directly instead of solely focusing on commercial platforms alone where feasible. By doing these, we can maximize chances getting involved in meaningful learning experiences while accommodating constraints such timeframes & accessibility concerns! Good luck finding your perfect educational journey ahead – keep being curious and proactive about pursuing knowledge growth through various mediums regardless of initial setbacks encountered along the way as opportunities evolve overtime based on circumstances surrounding every individual's unique situation. \n",
      "\n"
     ]
    }
   ],
   "source": [
    "print(_)"
   ]
  },
  {
   "cell_type": "code",
   "execution_count": null,
   "id": "e06812d7-8cf0-4def-b0b5-db4a9f1c7f8d",
   "metadata": {},
   "outputs": [],
   "source": []
  }
 ],
 "metadata": {
  "kernelspec": {
   "display_name": "Python 3 (ipykernel)",
   "language": "python",
   "name": "python3"
  },
  "language_info": {
   "codemirror_mode": {
    "name": "ipython",
    "version": 3
   },
   "file_extension": ".py",
   "mimetype": "text/x-python",
   "name": "python",
   "nbconvert_exporter": "python",
   "pygments_lexer": "ipython3",
   "version": "3.10.13"
  }
 },
 "nbformat": 4,
 "nbformat_minor": 5
}
